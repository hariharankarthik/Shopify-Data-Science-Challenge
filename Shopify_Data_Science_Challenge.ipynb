{
  "nbformat": 4,
  "nbformat_minor": 5,
  "metadata": {
    "kernelspec": {
      "display_name": "Python 3",
      "language": "python",
      "name": "python3"
    },
    "language_info": {
      "codemirror_mode": {
        "name": "ipython",
        "version": 3
      },
      "file_extension": ".py",
      "mimetype": "text/x-python",
      "name": "python",
      "nbconvert_exporter": "python",
      "pygments_lexer": "ipython3",
      "version": "3.8.5"
    },
    "colab": {
      "name": "Shopify Data Science Challenge.ipynb",
      "provenance": []
    }
  },
  "cells": [
    {
      "cell_type": "markdown",
      "metadata": {
        "id": "military-baghdad"
      },
      "source": [
        "<b> Question 1 </b>"
      ],
      "id": "military-baghdad"
    },
    {
      "cell_type": "code",
      "metadata": {
        "colab": {
          "base_uri": "https://localhost:8080/",
          "height": 204
        },
        "id": "theoretical-grill",
        "outputId": "386704ed-24c8-4272-e8ea-77d5552d25bc"
      },
      "source": [
        "import pandas as pd\n",
        "import numpy as np\n",
        "import matplotlib.pyplot as plt\n",
        "\n",
        "df = pd.read_csv('Shopify.csv')\n",
        "\n",
        "df.head()"
      ],
      "id": "theoretical-grill",
      "execution_count": null,
      "outputs": [
        {
          "output_type": "execute_result",
          "data": {
            "text/html": [
              "<div>\n",
              "<style scoped>\n",
              "    .dataframe tbody tr th:only-of-type {\n",
              "        vertical-align: middle;\n",
              "    }\n",
              "\n",
              "    .dataframe tbody tr th {\n",
              "        vertical-align: top;\n",
              "    }\n",
              "\n",
              "    .dataframe thead th {\n",
              "        text-align: right;\n",
              "    }\n",
              "</style>\n",
              "<table border=\"1\" class=\"dataframe\">\n",
              "  <thead>\n",
              "    <tr style=\"text-align: right;\">\n",
              "      <th></th>\n",
              "      <th>order_id</th>\n",
              "      <th>shop_id</th>\n",
              "      <th>user_id</th>\n",
              "      <th>order_amount</th>\n",
              "      <th>total_items</th>\n",
              "      <th>payment_method</th>\n",
              "      <th>created_at</th>\n",
              "    </tr>\n",
              "  </thead>\n",
              "  <tbody>\n",
              "    <tr>\n",
              "      <th>0</th>\n",
              "      <td>1</td>\n",
              "      <td>53</td>\n",
              "      <td>746</td>\n",
              "      <td>224</td>\n",
              "      <td>2</td>\n",
              "      <td>cash</td>\n",
              "      <td>2017-03-13 12:36:56</td>\n",
              "    </tr>\n",
              "    <tr>\n",
              "      <th>1</th>\n",
              "      <td>2</td>\n",
              "      <td>92</td>\n",
              "      <td>925</td>\n",
              "      <td>90</td>\n",
              "      <td>1</td>\n",
              "      <td>cash</td>\n",
              "      <td>2017-03-03 17:38:52</td>\n",
              "    </tr>\n",
              "    <tr>\n",
              "      <th>2</th>\n",
              "      <td>3</td>\n",
              "      <td>44</td>\n",
              "      <td>861</td>\n",
              "      <td>144</td>\n",
              "      <td>1</td>\n",
              "      <td>cash</td>\n",
              "      <td>2017-03-14 4:23:56</td>\n",
              "    </tr>\n",
              "    <tr>\n",
              "      <th>3</th>\n",
              "      <td>4</td>\n",
              "      <td>18</td>\n",
              "      <td>935</td>\n",
              "      <td>156</td>\n",
              "      <td>1</td>\n",
              "      <td>credit_card</td>\n",
              "      <td>2017-03-26 12:43:37</td>\n",
              "    </tr>\n",
              "    <tr>\n",
              "      <th>4</th>\n",
              "      <td>5</td>\n",
              "      <td>18</td>\n",
              "      <td>883</td>\n",
              "      <td>156</td>\n",
              "      <td>1</td>\n",
              "      <td>credit_card</td>\n",
              "      <td>2017-03-01 4:35:11</td>\n",
              "    </tr>\n",
              "  </tbody>\n",
              "</table>\n",
              "</div>"
            ],
            "text/plain": [
              "   order_id  shop_id  user_id  ...  total_items  payment_method           created_at\n",
              "0         1       53      746  ...            2            cash  2017-03-13 12:36:56\n",
              "1         2       92      925  ...            1            cash  2017-03-03 17:38:52\n",
              "2         3       44      861  ...            1            cash   2017-03-14 4:23:56\n",
              "3         4       18      935  ...            1     credit_card  2017-03-26 12:43:37\n",
              "4         5       18      883  ...            1     credit_card   2017-03-01 4:35:11\n",
              "\n",
              "[5 rows x 7 columns]"
            ]
          },
          "metadata": {
            "tags": []
          },
          "execution_count": 3
        }
      ]
    },
    {
      "cell_type": "code",
      "metadata": {
        "colab": {
          "base_uri": "https://localhost:8080/",
          "height": 297
        },
        "id": "confused-suite",
        "outputId": "3bbfb7ab-8619-48af-9e08-1834e609f6e7"
      },
      "source": [
        "df.describe()"
      ],
      "id": "confused-suite",
      "execution_count": null,
      "outputs": [
        {
          "output_type": "execute_result",
          "data": {
            "text/html": [
              "<div>\n",
              "<style scoped>\n",
              "    .dataframe tbody tr th:only-of-type {\n",
              "        vertical-align: middle;\n",
              "    }\n",
              "\n",
              "    .dataframe tbody tr th {\n",
              "        vertical-align: top;\n",
              "    }\n",
              "\n",
              "    .dataframe thead th {\n",
              "        text-align: right;\n",
              "    }\n",
              "</style>\n",
              "<table border=\"1\" class=\"dataframe\">\n",
              "  <thead>\n",
              "    <tr style=\"text-align: right;\">\n",
              "      <th></th>\n",
              "      <th>order_id</th>\n",
              "      <th>shop_id</th>\n",
              "      <th>user_id</th>\n",
              "      <th>order_amount</th>\n",
              "      <th>total_items</th>\n",
              "    </tr>\n",
              "  </thead>\n",
              "  <tbody>\n",
              "    <tr>\n",
              "      <th>count</th>\n",
              "      <td>5000.000000</td>\n",
              "      <td>5000.000000</td>\n",
              "      <td>5000.000000</td>\n",
              "      <td>5000.000000</td>\n",
              "      <td>5000.00000</td>\n",
              "    </tr>\n",
              "    <tr>\n",
              "      <th>mean</th>\n",
              "      <td>2500.500000</td>\n",
              "      <td>50.078800</td>\n",
              "      <td>849.092400</td>\n",
              "      <td>3145.128000</td>\n",
              "      <td>8.78720</td>\n",
              "    </tr>\n",
              "    <tr>\n",
              "      <th>std</th>\n",
              "      <td>1443.520003</td>\n",
              "      <td>29.006118</td>\n",
              "      <td>87.798982</td>\n",
              "      <td>41282.539349</td>\n",
              "      <td>116.32032</td>\n",
              "    </tr>\n",
              "    <tr>\n",
              "      <th>min</th>\n",
              "      <td>1.000000</td>\n",
              "      <td>1.000000</td>\n",
              "      <td>607.000000</td>\n",
              "      <td>90.000000</td>\n",
              "      <td>1.00000</td>\n",
              "    </tr>\n",
              "    <tr>\n",
              "      <th>25%</th>\n",
              "      <td>1250.750000</td>\n",
              "      <td>24.000000</td>\n",
              "      <td>775.000000</td>\n",
              "      <td>163.000000</td>\n",
              "      <td>1.00000</td>\n",
              "    </tr>\n",
              "    <tr>\n",
              "      <th>50%</th>\n",
              "      <td>2500.500000</td>\n",
              "      <td>50.000000</td>\n",
              "      <td>849.000000</td>\n",
              "      <td>284.000000</td>\n",
              "      <td>2.00000</td>\n",
              "    </tr>\n",
              "    <tr>\n",
              "      <th>75%</th>\n",
              "      <td>3750.250000</td>\n",
              "      <td>75.000000</td>\n",
              "      <td>925.000000</td>\n",
              "      <td>390.000000</td>\n",
              "      <td>3.00000</td>\n",
              "    </tr>\n",
              "    <tr>\n",
              "      <th>max</th>\n",
              "      <td>5000.000000</td>\n",
              "      <td>100.000000</td>\n",
              "      <td>999.000000</td>\n",
              "      <td>704000.000000</td>\n",
              "      <td>2000.00000</td>\n",
              "    </tr>\n",
              "  </tbody>\n",
              "</table>\n",
              "</div>"
            ],
            "text/plain": [
              "          order_id      shop_id      user_id   order_amount  total_items\n",
              "count  5000.000000  5000.000000  5000.000000    5000.000000   5000.00000\n",
              "mean   2500.500000    50.078800   849.092400    3145.128000      8.78720\n",
              "std    1443.520003    29.006118    87.798982   41282.539349    116.32032\n",
              "min       1.000000     1.000000   607.000000      90.000000      1.00000\n",
              "25%    1250.750000    24.000000   775.000000     163.000000      1.00000\n",
              "50%    2500.500000    50.000000   849.000000     284.000000      2.00000\n",
              "75%    3750.250000    75.000000   925.000000     390.000000      3.00000\n",
              "max    5000.000000   100.000000   999.000000  704000.000000   2000.00000"
            ]
          },
          "metadata": {
            "tags": []
          },
          "execution_count": 4
        }
      ]
    },
    {
      "cell_type": "markdown",
      "metadata": {
        "id": "ordinary-screen"
      },
      "source": [
        "We see that the naive calculation of the average order value (AOV) which is equal to $3145.13 comes from the mean of the order amount calculated as shown below."
      ],
      "id": "ordinary-screen"
    },
    {
      "cell_type": "code",
      "metadata": {
        "colab": {
          "base_uri": "https://localhost:8080/"
        },
        "id": "married-mauritius",
        "outputId": "f2fa20e9-d342-4d53-bf89-370d5b806de8"
      },
      "source": [
        "naiveAOV = df['order_amount'].sum() / len(df)\n",
        "print(f\"The naive AOV is ${naiveAOV:.2f}\")"
      ],
      "id": "married-mauritius",
      "execution_count": null,
      "outputs": [
        {
          "output_type": "stream",
          "text": [
            "The naive AOV is $3145.13\n"
          ],
          "name": "stdout"
        }
      ]
    },
    {
      "cell_type": "markdown",
      "metadata": {
        "id": "compatible-phenomenon"
      },
      "source": [
        "On Shopify, we have exactly 100 sneaker shops, and each of these shops sells only one model of shoe. When we want to do an analysis of the AOV, a calculation like this makes no sense since this average order amount just considers the total order amount sum divided by the number of rows in the dataset. This isn't a good enough metric, instead we want to take ito account the total order amount sum divided by the total number of items sold."
      ],
      "id": "compatible-phenomenon"
    },
    {
      "cell_type": "code",
      "metadata": {
        "colab": {
          "base_uri": "https://localhost:8080/"
        },
        "id": "behind-adaptation",
        "outputId": "e5ce8f35-b580-4806-9f3a-578975c77d5f"
      },
      "source": [
        "totalAOV = df['order_amount'].sum() / df['total_items'].sum()\n",
        "print(f\"The total AOV is ${totalAOV:.2f}\")"
      ],
      "id": "behind-adaptation",
      "execution_count": null,
      "outputs": [
        {
          "output_type": "stream",
          "text": [
            "The total AOV is $357.92\n"
          ],
          "name": "stdout"
        }
      ]
    },
    {
      "cell_type": "markdown",
      "metadata": {
        "id": "hollywood-intake"
      },
      "source": [
        "This total AOV makes more sense but the mean is still not the best way to do the AOV analysis. This is because of the presence of outliers in the data that skew the mean. These outliers can be seen in the boxplot below."
      ],
      "id": "hollywood-intake"
    },
    {
      "cell_type": "code",
      "metadata": {
        "colab": {
          "base_uri": "https://localhost:8080/",
          "height": 283
        },
        "id": "hungry-latter",
        "outputId": "c1553006-a904-4d2a-a5d2-f56aefdd3823"
      },
      "source": [
        "df.boxplot('order_amount')"
      ],
      "id": "hungry-latter",
      "execution_count": null,
      "outputs": [
        {
          "output_type": "execute_result",
          "data": {
            "text/plain": [
              "<matplotlib.axes._subplots.AxesSubplot at 0x7fee5d80efd0>"
            ]
          },
          "metadata": {
            "tags": []
          },
          "execution_count": 7
        },
        {
          "output_type": "display_data",
          "data": {
            "image/png": "[encoded data removed]",
            "text/plain": [
              "<Figure size 432x288 with 1 Axes>"
            ]
          },
          "metadata": {
            "tags": [],
            "needs_background": "light"
          }
        }
      ]
    },
    {
      "cell_type": "markdown",
      "metadata": {
        "id": "reserved-floating"
      },
      "source": [
        "We can see from the initial df.describe() result that the standard deviation of the data is 41282.54. This is very high and it means that the values in our dataset vary by 41282.54 from the mean value on average. Therefore, the mean is clearly not a very useful metric to use in this scenario. We can also see the min, 25\\%, 50\\%, 75\\%, and max values from the df.describe() method. A min value of 90 and a max value of 704000 tells us how widely this data is distributed. This max value is much higher than even the 75\\% value which means the outliers shown above are increasing the value of mean. A better way to evaluate this data would be the median."
      ],
      "id": "reserved-floating"
    },
    {
      "cell_type": "markdown",
      "metadata": {
        "id": "efficient-tomato"
      },
      "source": [
        "We are going to use the interquartile range (IQR) to spot outliers and calculate the median. The IQR is the range of values between the first and third quartiles, i.e., 25th and 75th percentiles, so it will include the majority of the data points in the dataset. We are going to use 1.5*IQR because of the 68-95-99 rule which is an important characteristic of the normal distribution. Therefore, a data point is an outlier if it falls outside of the range [quartile_1 - 1.5*IQR, quartile_3 + 1.5*IQR] In our dataset, we have several data points that fall out of this range that are outliers. Plotting values within 1.5*IQR of the second quartile gives us a good representation of the data around the median."
      ],
      "id": "efficient-tomato"
    },
    {
      "cell_type": "code",
      "metadata": {
        "colab": {
          "base_uri": "https://localhost:8080/",
          "height": 283
        },
        "id": "circular-disorder",
        "outputId": "f22f2c20-4286-4baa-9b41-a5e6b4074705"
      },
      "source": [
        "quartile_1 = df.order_amount.quantile(0.25)\n",
        "quartile_2 = df.order_amount.quantile(0.50)\n",
        "quartile_3 = df.order_amount.quantile(0.75)\n",
        "iqr = quartile_3 - quartile_1\n",
        "\n",
        "df_median = df[(df.order_amount > quartile_2 - 1.5*iqr) & (df.order_amount < quartile_2 + 1.5*iqr)]\n",
        "df_median.boxplot(column='order_amount')"
      ],
      "id": "circular-disorder",
      "execution_count": null,
      "outputs": [
        {
          "output_type": "execute_result",
          "data": {
            "text/plain": [
              "<matplotlib.axes._subplots.AxesSubplot at 0x7fee56e001d0>"
            ]
          },
          "metadata": {
            "tags": []
          },
          "execution_count": 8
        },
        {
          "output_type": "display_data",
          "data": {
            "image/png": "[encoded data removed]",
            "text/plain": [
              "<Figure size 432x288 with 1 Axes>"
            ]
          },
          "metadata": {
            "tags": [],
            "needs_background": "light"
          }
        }
      ]
    },
    {
      "cell_type": "code",
      "metadata": {
        "colab": {
          "base_uri": "https://localhost:8080/"
        },
        "id": "apart-cholesterol",
        "outputId": "2ea40269-f00b-4450-ca0b-bba6a9a97a79"
      },
      "source": [
        "median = df_median['order_amount'].median()\n",
        "print(median)"
      ],
      "id": "apart-cholesterol",
      "execution_count": null,
      "outputs": [
        {
          "output_type": "stream",
          "text": [
            "272.0\n"
          ],
          "name": "stdout"
        }
      ]
    },
    {
      "cell_type": "code",
      "metadata": {
        "colab": {
          "base_uri": "https://localhost:8080/",
          "height": 297
        },
        "id": "instructional-apache",
        "outputId": "492fc4dc-d3bf-4294-b5fd-be489209e236"
      },
      "source": [
        "df_median.describe()"
      ],
      "id": "instructional-apache",
      "execution_count": null,
      "outputs": [
        {
          "output_type": "execute_result",
          "data": {
            "text/html": [
              "<div>\n",
              "<style scoped>\n",
              "    .dataframe tbody tr th:only-of-type {\n",
              "        vertical-align: middle;\n",
              "    }\n",
              "\n",
              "    .dataframe tbody tr th {\n",
              "        vertical-align: top;\n",
              "    }\n",
              "\n",
              "    .dataframe thead th {\n",
              "        text-align: right;\n",
              "    }\n",
              "</style>\n",
              "<table border=\"1\" class=\"dataframe\">\n",
              "  <thead>\n",
              "    <tr style=\"text-align: right;\">\n",
              "      <th></th>\n",
              "      <th>order_id</th>\n",
              "      <th>shop_id</th>\n",
              "      <th>user_id</th>\n",
              "      <th>order_amount</th>\n",
              "      <th>total_items</th>\n",
              "    </tr>\n",
              "  </thead>\n",
              "  <tbody>\n",
              "    <tr>\n",
              "      <th>count</th>\n",
              "      <td>4738.000000</td>\n",
              "      <td>4738.000000</td>\n",
              "      <td>4738.000000</td>\n",
              "      <td>4738.000000</td>\n",
              "      <td>4738.00000</td>\n",
              "    </tr>\n",
              "    <tr>\n",
              "      <th>mean</th>\n",
              "      <td>2500.866399</td>\n",
              "      <td>49.770367</td>\n",
              "      <td>850.325876</td>\n",
              "      <td>283.814268</td>\n",
              "      <td>1.89848</td>\n",
              "    </tr>\n",
              "    <tr>\n",
              "      <th>std</th>\n",
              "      <td>1444.266056</td>\n",
              "      <td>29.149727</td>\n",
              "      <td>86.802461</td>\n",
              "      <td>132.061996</td>\n",
              "      <td>0.86278</td>\n",
              "    </tr>\n",
              "    <tr>\n",
              "      <th>min</th>\n",
              "      <td>1.000000</td>\n",
              "      <td>1.000000</td>\n",
              "      <td>700.000000</td>\n",
              "      <td>90.000000</td>\n",
              "      <td>1.00000</td>\n",
              "    </tr>\n",
              "    <tr>\n",
              "      <th>25%</th>\n",
              "      <td>1247.250000</td>\n",
              "      <td>24.000000</td>\n",
              "      <td>776.000000</td>\n",
              "      <td>161.000000</td>\n",
              "      <td>1.00000</td>\n",
              "    </tr>\n",
              "    <tr>\n",
              "      <th>50%</th>\n",
              "      <td>2502.500000</td>\n",
              "      <td>50.000000</td>\n",
              "      <td>851.000000</td>\n",
              "      <td>272.000000</td>\n",
              "      <td>2.00000</td>\n",
              "    </tr>\n",
              "    <tr>\n",
              "      <th>75%</th>\n",
              "      <td>3755.750000</td>\n",
              "      <td>74.000000</td>\n",
              "      <td>926.000000</td>\n",
              "      <td>362.000000</td>\n",
              "      <td>2.00000</td>\n",
              "    </tr>\n",
              "    <tr>\n",
              "      <th>max</th>\n",
              "      <td>5000.000000</td>\n",
              "      <td>100.000000</td>\n",
              "      <td>999.000000</td>\n",
              "      <td>624.000000</td>\n",
              "      <td>5.00000</td>\n",
              "    </tr>\n",
              "  </tbody>\n",
              "</table>\n",
              "</div>"
            ],
            "text/plain": [
              "          order_id      shop_id      user_id  order_amount  total_items\n",
              "count  4738.000000  4738.000000  4738.000000   4738.000000   4738.00000\n",
              "mean   2500.866399    49.770367   850.325876    283.814268      1.89848\n",
              "std    1444.266056    29.149727    86.802461    132.061996      0.86278\n",
              "min       1.000000     1.000000   700.000000     90.000000      1.00000\n",
              "25%    1247.250000    24.000000   776.000000    161.000000      1.00000\n",
              "50%    2502.500000    50.000000   851.000000    272.000000      2.00000\n",
              "75%    3755.750000    74.000000   926.000000    362.000000      2.00000\n",
              "max    5000.000000   100.000000   999.000000    624.000000      5.00000"
            ]
          },
          "metadata": {
            "tags": []
          },
          "execution_count": 10
        }
      ]
    },
    {
      "cell_type": "markdown",
      "metadata": {
        "id": "departmental-updating"
      },
      "source": [
        "Therefore, df_median is a much better representation of the data since the effect of outliers is much lower here as shown in the second boxplot compared to the first boxplot which shows the effect of outliers on the mean. From the df_median.describe() method, we can see that a standard deviation of 132.06 for this data is also much more accurate. Hence, I would report df_median as the metric and this has a median value of 272."
      ],
      "id": "departmental-updating"
    },
    {
      "cell_type": "markdown",
      "metadata": {
        "id": "golden-lesbian"
      },
      "source": [
        "Another way to analyze the data is to look at how the order_amounts vary over the 30 day period. We can find which days have the highest order amounts and are the most busy. We can also see that the sneaker shop sales are low at the beginnning of the month but they increase as the month progresses only to decrease again. This is shown in a line plot below."
      ],
      "id": "golden-lesbian"
    },
    {
      "cell_type": "code",
      "metadata": {
        "colab": {
          "base_uri": "https://localhost:8080/",
          "height": 204
        },
        "id": "authentic-bernard",
        "outputId": "9472d547-499f-40b5-f6b8-926cc565a031"
      },
      "source": [
        "df['created_at'] = pd.to_datetime(df.created_at)\n",
        "res = df.set_index('created_at').groupby(pd.Grouper(freq='W'))['order_amount'].sum().reset_index()\n",
        "res.sort_values(by='order_amount', ascending=False).head()"
      ],
      "id": "authentic-bernard",
      "execution_count": null,
      "outputs": [
        {
          "output_type": "execute_result",
          "data": {
            "text/html": [
              "<div>\n",
              "<style scoped>\n",
              "    .dataframe tbody tr th:only-of-type {\n",
              "        vertical-align: middle;\n",
              "    }\n",
              "\n",
              "    .dataframe tbody tr th {\n",
              "        vertical-align: top;\n",
              "    }\n",
              "\n",
              "    .dataframe thead th {\n",
              "        text-align: right;\n",
              "    }\n",
              "</style>\n",
              "<table border=\"1\" class=\"dataframe\">\n",
              "  <thead>\n",
              "    <tr style=\"text-align: right;\">\n",
              "      <th></th>\n",
              "      <th>created_at</th>\n",
              "      <th>order_amount</th>\n",
              "    </tr>\n",
              "  </thead>\n",
              "  <tbody>\n",
              "    <tr>\n",
              "      <th>3</th>\n",
              "      <td>2017-03-26</td>\n",
              "      <td>3629437</td>\n",
              "    </tr>\n",
              "    <tr>\n",
              "      <th>1</th>\n",
              "      <td>2017-03-12</td>\n",
              "      <td>3429845</td>\n",
              "    </tr>\n",
              "    <tr>\n",
              "      <th>2</th>\n",
              "      <td>2017-03-19</td>\n",
              "      <td>3268887</td>\n",
              "    </tr>\n",
              "    <tr>\n",
              "      <th>0</th>\n",
              "      <td>2017-03-05</td>\n",
              "      <td>2724789</td>\n",
              "    </tr>\n",
              "    <tr>\n",
              "      <th>4</th>\n",
              "      <td>2017-04-02</td>\n",
              "      <td>2672682</td>\n",
              "    </tr>\n",
              "  </tbody>\n",
              "</table>\n",
              "</div>"
            ],
            "text/plain": [
              "  created_at  order_amount\n",
              "3 2017-03-26       3629437\n",
              "1 2017-03-12       3429845\n",
              "2 2017-03-19       3268887\n",
              "0 2017-03-05       2724789\n",
              "4 2017-04-02       2672682"
            ]
          },
          "metadata": {
            "tags": []
          },
          "execution_count": 11
        }
      ]
    },
    {
      "cell_type": "code",
      "metadata": {
        "colab": {
          "base_uri": "https://localhost:8080/",
          "height": 343
        },
        "id": "danish-disaster",
        "outputId": "4d776bf6-f23a-4fd5-91e2-f1e1ccfc0ca0"
      },
      "source": [
        "df['created_at'] = df['created_at'].dt.date\n",
        "res.plot(x='created_at', y='order_amount', kind='line')"
      ],
      "id": "danish-disaster",
      "execution_count": null,
      "outputs": [
        {
          "output_type": "execute_result",
          "data": {
            "text/plain": [
              "<matplotlib.axes._subplots.AxesSubplot at 0x7fee576d1790>"
            ]
          },
          "metadata": {
            "tags": []
          },
          "execution_count": 12
        },
        {
          "output_type": "display_data",
          "data": {
            "image/png": "[encoded data removed]",
            "text/plain": [
              "<Figure size 432x288 with 1 Axes>"
            ]
          },
          "metadata": {
            "tags": [],
            "needs_background": "light"
          }
        }
      ]
    },
    {
      "cell_type": "markdown",
      "metadata": {
        "id": "forty-concentrate"
      },
      "source": [
        "Another way to analyze this data is by shop_id to see which sneaker shop has the highest AOV. The analysis shows that sneaker shop 78 has the highest AOV of $25725."
      ],
      "id": "forty-concentrate"
    },
    {
      "cell_type": "code",
      "metadata": {
        "colab": {
          "base_uri": "https://localhost:8080/",
          "height": 235
        },
        "id": "worst-appreciation",
        "outputId": "cb73abb4-9c53-4e34-9715-d22fe729eba2"
      },
      "source": [
        "shopAOV = df.groupby('shop_id')[['order_amount', 'total_items']].sum()\n",
        "shopAOV['shop_aov'] = shopAOV['order_amount'] / shopAOV['total_items']\n",
        "shopAOV.sort_values(by='shop_aov', ascending=False).head()"
      ],
      "id": "worst-appreciation",
      "execution_count": null,
      "outputs": [
        {
          "output_type": "execute_result",
          "data": {
            "text/html": [
              "<div>\n",
              "<style scoped>\n",
              "    .dataframe tbody tr th:only-of-type {\n",
              "        vertical-align: middle;\n",
              "    }\n",
              "\n",
              "    .dataframe tbody tr th {\n",
              "        vertical-align: top;\n",
              "    }\n",
              "\n",
              "    .dataframe thead th {\n",
              "        text-align: right;\n",
              "    }\n",
              "</style>\n",
              "<table border=\"1\" class=\"dataframe\">\n",
              "  <thead>\n",
              "    <tr style=\"text-align: right;\">\n",
              "      <th></th>\n",
              "      <th>order_amount</th>\n",
              "      <th>total_items</th>\n",
              "      <th>shop_aov</th>\n",
              "    </tr>\n",
              "    <tr>\n",
              "      <th>shop_id</th>\n",
              "      <th></th>\n",
              "      <th></th>\n",
              "      <th></th>\n",
              "    </tr>\n",
              "  </thead>\n",
              "  <tbody>\n",
              "    <tr>\n",
              "      <th>78</th>\n",
              "      <td>2263800</td>\n",
              "      <td>88</td>\n",
              "      <td>25725.0</td>\n",
              "    </tr>\n",
              "    <tr>\n",
              "      <th>42</th>\n",
              "      <td>11990176</td>\n",
              "      <td>34063</td>\n",
              "      <td>352.0</td>\n",
              "    </tr>\n",
              "    <tr>\n",
              "      <th>12</th>\n",
              "      <td>18693</td>\n",
              "      <td>93</td>\n",
              "      <td>201.0</td>\n",
              "    </tr>\n",
              "    <tr>\n",
              "      <th>89</th>\n",
              "      <td>23128</td>\n",
              "      <td>118</td>\n",
              "      <td>196.0</td>\n",
              "    </tr>\n",
              "    <tr>\n",
              "      <th>99</th>\n",
              "      <td>18330</td>\n",
              "      <td>94</td>\n",
              "      <td>195.0</td>\n",
              "    </tr>\n",
              "  </tbody>\n",
              "</table>\n",
              "</div>"
            ],
            "text/plain": [
              "         order_amount  total_items  shop_aov\n",
              "shop_id                                     \n",
              "78            2263800           88   25725.0\n",
              "42           11990176        34063     352.0\n",
              "12              18693           93     201.0\n",
              "89              23128          118     196.0\n",
              "99              18330           94     195.0"
            ]
          },
          "metadata": {
            "tags": []
          },
          "execution_count": 13
        }
      ]
    },
    {
      "cell_type": "markdown",
      "metadata": {
        "id": "dated-coral"
      },
      "source": [
        "Another way to analyze this data is by user_id to see which customer has the highest AOV for purchases. The analysis shows that user 878 has the highest AOV for purchases ($6539)."
      ],
      "id": "dated-coral"
    },
    {
      "cell_type": "code",
      "metadata": {
        "colab": {
          "base_uri": "https://localhost:8080/",
          "height": 235
        },
        "id": "resident-scotland",
        "outputId": "452c61cd-f5c4-462b-f2a2-d4f17ac12bfc"
      },
      "source": [
        "userAOV = df.groupby('user_id')[['order_amount', 'total_items']].sum()\n",
        "userAOV['user_AOV'] = userAOV['order_amount'] / userAOV['total_items']\n",
        "userAOV.sort_values(by='user_AOV', ascending=False).head()"
      ],
      "id": "resident-scotland",
      "execution_count": null,
      "outputs": [
        {
          "output_type": "execute_result",
          "data": {
            "text/html": [
              "<div>\n",
              "<style scoped>\n",
              "    .dataframe tbody tr th:only-of-type {\n",
              "        vertical-align: middle;\n",
              "    }\n",
              "\n",
              "    .dataframe tbody tr th {\n",
              "        vertical-align: top;\n",
              "    }\n",
              "\n",
              "    .dataframe thead th {\n",
              "        text-align: right;\n",
              "    }\n",
              "</style>\n",
              "<table border=\"1\" class=\"dataframe\">\n",
              "  <thead>\n",
              "    <tr style=\"text-align: right;\">\n",
              "      <th></th>\n",
              "      <th>order_amount</th>\n",
              "      <th>total_items</th>\n",
              "      <th>user_AOV</th>\n",
              "    </tr>\n",
              "    <tr>\n",
              "      <th>user_id</th>\n",
              "      <th></th>\n",
              "      <th></th>\n",
              "      <th></th>\n",
              "    </tr>\n",
              "  </thead>\n",
              "  <tbody>\n",
              "    <tr>\n",
              "      <th>878</th>\n",
              "      <td>156936</td>\n",
              "      <td>24</td>\n",
              "      <td>6539.000000</td>\n",
              "    </tr>\n",
              "    <tr>\n",
              "      <th>766</th>\n",
              "      <td>80076</td>\n",
              "      <td>23</td>\n",
              "      <td>3481.565217</td>\n",
              "    </tr>\n",
              "    <tr>\n",
              "      <th>962</th>\n",
              "      <td>80408</td>\n",
              "      <td>24</td>\n",
              "      <td>3350.333333</td>\n",
              "    </tr>\n",
              "    <tr>\n",
              "      <th>855</th>\n",
              "      <td>80915</td>\n",
              "      <td>27</td>\n",
              "      <td>2996.851852</td>\n",
              "    </tr>\n",
              "    <tr>\n",
              "      <th>775</th>\n",
              "      <td>81114</td>\n",
              "      <td>28</td>\n",
              "      <td>2896.928571</td>\n",
              "    </tr>\n",
              "  </tbody>\n",
              "</table>\n",
              "</div>"
            ],
            "text/plain": [
              "         order_amount  total_items     user_AOV\n",
              "user_id                                        \n",
              "878            156936           24  6539.000000\n",
              "766             80076           23  3481.565217\n",
              "962             80408           24  3350.333333\n",
              "855             80915           27  2996.851852\n",
              "775             81114           28  2896.928571"
            ]
          },
          "metadata": {
            "tags": []
          },
          "execution_count": 14
        }
      ]
    },
    {
      "cell_type": "markdown",
      "metadata": {
        "id": "unusual-leader"
      },
      "source": [
        "<b> Question 2 </b>"
      ],
      "id": "unusual-leader"
    },
    {
      "cell_type": "raw",
      "metadata": {
        "id": "living-calculator"
      },
      "source": [
        "select t2.shipperName, t1.totalOrders from (select shipperID, count(orderID) as TotalOrders from orders group by shipperID) as t1 inner join shippers as t2 on t1.shipperID=t2.shipperID where t2.shipperName = 'Speedy Express';"
      ],
      "id": "living-calculator"
    },
    {
      "cell_type": "markdown",
      "metadata": {
        "id": "forbidden-portrait"
      },
      "source": [
        "There were 54 orders shipped by Speedy Express in total."
      ],
      "id": "forbidden-portrait"
    },
    {
      "cell_type": "raw",
      "metadata": {
        "id": "greater-possibility"
      },
      "source": [
        "with OrderCount(EmpID, Total) as (select employeeID, count(orderID) as totalOrders from orders group by employeeID) select t2.lastName, t1.total as TotalCount from (select empID, total from orderCount where total = (select max(total) from orderCount)) as t1 inner join employees as t2 on t1.empID=t2.employeeID;"
      ],
      "id": "greater-possibility"
    },
    {
      "cell_type": "markdown",
      "metadata": {
        "id": "external-victor"
      },
      "source": [
        "The last name of the employee with the most orders is Peacock with 40 orders."
      ],
      "id": "external-victor"
    },
    {
      "cell_type": "raw",
      "metadata": {
        "id": "missing-wildlife"
      },
      "source": [
        "with GermanyOrders(ProductName, OrderCount) as (select productName, sum(quantity) as totalOrders from (select t5.country, t5.quantity, t6.productName from (select t3.country, t4.productID, t4.quantity from (select t1.country, t2.orderID from (select customerID, country from customers) as t1 inner join orders as t2 on t1.customerID=t2.customerID) as t3 inner join orderDetails as t4 on t3.orderID=t4.orderID) as t5 inner join products as t6 on t5.productID=t6.productID) as tmp where country = 'Germany' group by productName) select productName, orderCount from GermanyOrders where orderCount = (select max(orderCount) from GermanyOrders);"
      ],
      "id": "missing-wildlife"
    },
    {
      "cell_type": "markdown",
      "metadata": {
        "id": "given-format"
      },
      "source": [
        "The product ordered the most by customers in Germany was Boston Crab Meat with 160 orders."
      ],
      "id": "given-format"
    }
  ]
}